{
  "nbformat": 4,
  "nbformat_minor": 0,
  "metadata": {
    "colab": {
      "provenance": [],
      "gpuType": "T4"
    },
    "kernelspec": {
      "name": "python3",
      "display_name": "Python 3"
    },
    "language_info": {
      "name": "python"
    },
    "accelerator": "GPU"
  },
  "cells": [
    {
      "cell_type": "code",
      "execution_count": 1,
      "metadata": {
        "colab": {
          "base_uri": "https://localhost:8080/"
        },
        "id": "Z_oEUgRR-hwB",
        "outputId": "15172d8c-26be-43e6-dd66-826d57429586"
      },
      "outputs": [
        {
          "output_type": "stream",
          "name": "stdout",
          "text": [
            "Sat Oct  4 07:21:10 2025       \n",
            "+-----------------------------------------------------------------------------------------+\n",
            "| NVIDIA-SMI 550.54.15              Driver Version: 550.54.15      CUDA Version: 12.4     |\n",
            "|-----------------------------------------+------------------------+----------------------+\n",
            "| GPU  Name                 Persistence-M | Bus-Id          Disp.A | Volatile Uncorr. ECC |\n",
            "| Fan  Temp   Perf          Pwr:Usage/Cap |           Memory-Usage | GPU-Util  Compute M. |\n",
            "|                                         |                        |               MIG M. |\n",
            "|=========================================+========================+======================|\n",
            "|   0  Tesla T4                       Off |   00000000:00:04.0 Off |                    0 |\n",
            "| N/A   47C    P8              9W /   70W |       0MiB /  15360MiB |      0%      Default |\n",
            "|                                         |                        |                  N/A |\n",
            "+-----------------------------------------+------------------------+----------------------+\n",
            "                                                                                         \n",
            "+-----------------------------------------------------------------------------------------+\n",
            "| Processes:                                                                              |\n",
            "|  GPU   GI   CI        PID   Type   Process name                              GPU Memory |\n",
            "|        ID   ID                                                               Usage      |\n",
            "|=========================================================================================|\n",
            "|  No running processes found                                                             |\n",
            "+-----------------------------------------------------------------------------------------+\n",
            "torch 2.8.0+cu126 cuda: True\n"
          ]
        }
      ],
      "source": [
        "# 0. Runtime check / install\n",
        "# (Colab already has CUDA + PyTorch; just ensure correct torch version)\n",
        "!nvidia-smi\n",
        "import torch, torchvision\n",
        "print(\"torch\", torch.__version__, \"cuda:\", torch.cuda.is_available())\n"
      ]
    },
    {
      "cell_type": "code",
      "source": [
        "# 1. Imports\n",
        "import math, time, os, random\n",
        "from functools import partial\n",
        "from pathlib import Path\n",
        "import numpy as np\n",
        "from tqdm import tqdm\n",
        "import torch\n",
        "import torch.nn as nn\n",
        "import torch.nn.functional as F\n",
        "from torch.utils.data import DataLoader\n",
        "import torchvision\n",
        "from torchvision import transforms, datasets\n"
      ],
      "metadata": {
        "id": "wNPTAy5T_AlB"
      },
      "execution_count": 2,
      "outputs": []
    },
    {
      "cell_type": "code",
      "source": [
        "# 2. Config (edit for best run)\n",
        "class Cfg:\n",
        "    seed = 42\n",
        "    device = \"cuda\" if torch.cuda.is_available() else \"cpu\"\n",
        "    batch_size = 256   # lower if OOM\n",
        "    epochs = 30\n",
        "    lr = 3e-4\n",
        "    weight_decay = 0.05\n",
        "    image_size = 32\n",
        "    patch_size = 4     # patch 4x4 -> 8x8 patches for 32x32 images (non-overlapping)\n",
        "    emb_dim = 256\n",
        "    depth = 8\n",
        "    num_heads = 8\n",
        "    mlp_ratio = 4\n",
        "    dropout = 0.0\n",
        "    grad_clip = 1.0\n",
        "cfg = Cfg()\n"
      ],
      "metadata": {
        "id": "8FPM2ZIC_CbS"
      },
      "execution_count": 3,
      "outputs": []
    },
    {
      "cell_type": "code",
      "source": [
        "# 3. Reproducibility\n",
        "def seed_everything(seed=42):\n",
        "    random.seed(seed)\n",
        "    np.random.seed(seed)\n",
        "    torch.manual_seed(seed)\n",
        "    torch.cuda.manual_seed_all(seed)\n",
        "seed_everything(cfg.seed)\n"
      ],
      "metadata": {
        "id": "MIMczHQg_DzA"
      },
      "execution_count": 4,
      "outputs": []
    },
    {
      "cell_type": "code",
      "source": [
        "# 4. Data (CIFAR-10) transforms & loaders\n",
        "mean = (0.4914, 0.4822, 0.4465)\n",
        "std = (0.2470, 0.2435, 0.2616)\n",
        "\n",
        "train_tf = transforms.Compose([\n",
        "    transforms.RandomCrop(32, padding=4),\n",
        "    transforms.RandomHorizontalFlip(),\n",
        "    transforms.ToTensor(),\n",
        "    transforms.Normalize(mean, std)\n",
        "])\n",
        "test_tf = transforms.Compose([\n",
        "    transforms.ToTensor(),\n",
        "    transforms.Normalize(mean, std)\n",
        "])\n",
        "\n",
        "train_ds = datasets.CIFAR10(root=\"data\", train=True, download=True, transform=train_tf)\n",
        "test_ds  = datasets.CIFAR10(root=\"data\", train=False, download=True, transform=test_tf)\n",
        "\n",
        "train_loader = DataLoader(train_ds, batch_size=cfg.batch_size, shuffle=True, num_workers=4, pin_memory=True)\n",
        "test_loader  = DataLoader(test_ds, batch_size=cfg.batch_size, shuffle=False, num_workers=4, pin_memory=True)\n"
      ],
      "metadata": {
        "colab": {
          "base_uri": "https://localhost:8080/"
        },
        "id": "sZ8WEqSk_E_8",
        "outputId": "aa259af9-5e44-43e4-921d-7c660319f6f2"
      },
      "execution_count": 5,
      "outputs": [
        {
          "output_type": "stream",
          "name": "stderr",
          "text": [
            "100%|██████████| 170M/170M [00:03<00:00, 43.3MB/s]\n",
            "/usr/local/lib/python3.12/dist-packages/torch/utils/data/dataloader.py:627: UserWarning: This DataLoader will create 4 worker processes in total. Our suggested max number of worker in current system is 2, which is smaller than what this DataLoader is going to create. Please be aware that excessive worker creation might get DataLoader running slow or even freeze, lower the worker number to avoid potential slowness/freeze if necessary.\n",
            "  warnings.warn(\n"
          ]
        }
      ]
    },
    {
      "cell_type": "code",
      "source": [
        "# 5. ViT model (simple, clear, compliant with requirements)\n",
        "class PatchEmbed(nn.Module):\n",
        "    def __init__(self, img_size=32, patch_size=4, in_chans=3, embed_dim=256):\n",
        "        super().__init__()\n",
        "        assert img_size % patch_size == 0\n",
        "        self.patch_size = patch_size\n",
        "        self.num_patches = (img_size // patch_size) ** 2\n",
        "        self.proj = nn.Conv2d(in_chans, embed_dim, kernel_size=patch_size, stride=patch_size)\n",
        "\n",
        "    def forward(self, x):\n",
        "        # x: B, C, H, W -> B, embed_dim, H/ps, W/ps\n",
        "        x = self.proj(x)\n",
        "        x = x.flatten(2).transpose(1, 2)  # B, num_patches, embed_dim\n",
        "        return x\n",
        "\n",
        "class MLP(nn.Module):\n",
        "    def __init__(self, in_dim, hidden_dim, dropout=0.0):\n",
        "        super().__init__()\n",
        "        self.fc1 = nn.Linear(in_dim, hidden_dim)\n",
        "        self.act = nn.GELU()\n",
        "        self.fc2 = nn.Linear(hidden_dim, in_dim)\n",
        "        self.dropout = nn.Dropout(dropout)\n",
        "    def forward(self, x):\n",
        "        x = self.fc1(x)\n",
        "        x = self.act(x)\n",
        "        x = self.dropout(x)\n",
        "        x = self.fc2(x)\n",
        "        x = self.dropout(x)\n",
        "        return x\n",
        "\n",
        "class EncoderBlock(nn.Module):\n",
        "    def __init__(self, dim, num_heads, mlp_ratio=4.0, dropout=0.0):\n",
        "        super().__init__()\n",
        "        self.norm1 = nn.LayerNorm(dim)\n",
        "        self.attn = nn.MultiheadAttention(embed_dim=dim, num_heads=num_heads, dropout=dropout, batch_first=True)\n",
        "        self.norm2 = nn.LayerNorm(dim)\n",
        "        self.mlp = MLP(dim, int(dim*mlp_ratio), dropout=dropout)\n",
        "\n",
        "    def forward(self, x):\n",
        "        # x: B, N, dim\n",
        "        x2 = self.norm1(x)\n",
        "        attn_out, _ = self.attn(x2, x2, x2)\n",
        "        x = x + attn_out\n",
        "        x = x + self.mlp(self.norm2(x))\n",
        "        return x\n",
        "\n",
        "class ViT(nn.Module):\n",
        "    def __init__(self, img_size=32, patch_size=4, in_chans=3, num_classes=10, embed_dim=256, depth=8, num_heads=8, mlp_ratio=4.0, dropout=0.0):\n",
        "        super().__init__()\n",
        "        self.patch_embed = PatchEmbed(img_size, patch_size, in_chans, embed_dim)\n",
        "        num_patches = self.patch_embed.num_patches\n",
        "        self.cls_token = nn.Parameter(torch.zeros(1, 1, embed_dim))\n",
        "        self.pos_embed = nn.Parameter(torch.zeros(1, 1 + num_patches, embed_dim))\n",
        "        self.pos_drop = nn.Dropout(p=dropout)\n",
        "        self.blocks = nn.ModuleList([\n",
        "            EncoderBlock(embed_dim, num_heads, mlp_ratio, dropout) for _ in range(depth)\n",
        "        ])\n",
        "        self.norm = nn.LayerNorm(embed_dim)\n",
        "        self.head = nn.Linear(embed_dim, num_classes)\n",
        "        # init\n",
        "        nn.init.trunc_normal_(self.pos_embed, std=0.02)\n",
        "        nn.init.trunc_normal_(self.cls_token, std=0.02)\n",
        "        self.apply(self._init_weights)\n",
        "\n",
        "    def _init_weights(self, m):\n",
        "        if isinstance(m, nn.Linear):\n",
        "            nn.init.xavier_uniform_(m.weight)\n",
        "            if m.bias is not None:\n",
        "                nn.init.zeros_(m.bias)\n",
        "        elif isinstance(m, nn.LayerNorm):\n",
        "            pass\n",
        "\n",
        "    def forward(self, x):\n",
        "        B = x.shape[0]\n",
        "        x = self.patch_embed(x)             # B, N, D\n",
        "        cls_tokens = self.cls_token.expand(B, -1, -1)  # B,1,D\n",
        "        x = torch.cat((cls_tokens, x), dim=1)         # B, N+1, D\n",
        "        x = x + self.pos_embed\n",
        "        x = self.pos_drop(x)\n",
        "        for blk in self.blocks:\n",
        "            x = blk(x)\n",
        "        x = self.norm(x)\n",
        "        cls = x[:, 0]\n",
        "        out = self.head(cls)\n",
        "        return out\n"
      ],
      "metadata": {
        "id": "s70mV7mW_GK1"
      },
      "execution_count": 6,
      "outputs": []
    },
    {
      "cell_type": "code",
      "source": [
        "# 6. Create model, optimizer, scheduler, loss\n",
        "model = ViT(img_size=cfg.image_size, patch_size=cfg.patch_size, embed_dim=cfg.emb_dim,\n",
        "            depth=cfg.depth, num_heads=cfg.num_heads, mlp_ratio=cfg.mlp_ratio, dropout=cfg.dropout).to(cfg.device)\n",
        "\n",
        "optimizer = torch.optim.AdamW(model.parameters(), lr=cfg.lr, weight_decay=cfg.weight_decay)\n",
        "# simple cosine annealing\n",
        "scheduler = torch.optim.lr_scheduler.CosineAnnealingLR(optimizer, T_max=cfg.epochs)\n",
        "criterion = nn.CrossEntropyLoss()\n",
        "print(model)\n"
      ],
      "metadata": {
        "colab": {
          "base_uri": "https://localhost:8080/"
        },
        "id": "GoTcvAv1_ITQ",
        "outputId": "d1730117-29b3-4c3f-9380-84dd0b1f46dd"
      },
      "execution_count": 7,
      "outputs": [
        {
          "output_type": "stream",
          "name": "stdout",
          "text": [
            "ViT(\n",
            "  (patch_embed): PatchEmbed(\n",
            "    (proj): Conv2d(3, 256, kernel_size=(4, 4), stride=(4, 4))\n",
            "  )\n",
            "  (pos_drop): Dropout(p=0.0, inplace=False)\n",
            "  (blocks): ModuleList(\n",
            "    (0-7): 8 x EncoderBlock(\n",
            "      (norm1): LayerNorm((256,), eps=1e-05, elementwise_affine=True)\n",
            "      (attn): MultiheadAttention(\n",
            "        (out_proj): NonDynamicallyQuantizableLinear(in_features=256, out_features=256, bias=True)\n",
            "      )\n",
            "      (norm2): LayerNorm((256,), eps=1e-05, elementwise_affine=True)\n",
            "      (mlp): MLP(\n",
            "        (fc1): Linear(in_features=256, out_features=1024, bias=True)\n",
            "        (act): GELU(approximate='none')\n",
            "        (fc2): Linear(in_features=1024, out_features=256, bias=True)\n",
            "        (dropout): Dropout(p=0.0, inplace=False)\n",
            "      )\n",
            "    )\n",
            "  )\n",
            "  (norm): LayerNorm((256,), eps=1e-05, elementwise_affine=True)\n",
            "  (head): Linear(in_features=256, out_features=10, bias=True)\n",
            ")\n"
          ]
        }
      ]
    },
    {
      "cell_type": "code",
      "source": [
        "# 7. Training & evaluation loops\n",
        "def train_one_epoch(model, loader, opt, device):\n",
        "    model.train()\n",
        "    running_loss = 0.0\n",
        "    correct = 0\n",
        "    total = 0\n",
        "    pbar = tqdm(loader)\n",
        "    for images, labels in pbar:\n",
        "        images = images.to(device)\n",
        "        labels = labels.to(device)\n",
        "        opt.zero_grad()\n",
        "        logits = model(images)\n",
        "        loss = criterion(logits, labels)\n",
        "        loss.backward()\n",
        "        if cfg.grad_clip:\n",
        "            torch.nn.utils.clip_grad_norm_(model.parameters(), cfg.grad_clip)\n",
        "        opt.step()\n",
        "        running_loss += loss.item() * images.size(0)\n",
        "        preds = logits.argmax(dim=1)\n",
        "        correct += (preds == labels).sum().item()\n",
        "        total += images.size(0)\n",
        "        pbar.set_description(f\"loss: {running_loss/total:.4f} acc: {100*correct/total:.2f}%\")\n",
        "    return running_loss/total, correct/total\n",
        "\n",
        "def evaluate(model, loader, device):\n",
        "    model.eval()\n",
        "    correct = 0\n",
        "    total = 0\n",
        "    with torch.no_grad():\n",
        "        for images, labels in loader:\n",
        "            images = images.to(device)\n",
        "            labels = labels.to(device)\n",
        "            logits = model(images)\n",
        "            preds = logits.argmax(dim=1)\n",
        "            correct += (preds == labels).sum().item()\n",
        "            total += images.size(0)\n",
        "    return correct/total\n"
      ],
      "metadata": {
        "id": "pRrzE5Bi_JT9"
      },
      "execution_count": 8,
      "outputs": []
    },
    {
      "cell_type": "code",
      "source": [
        "# 8. Run training\n",
        "best_acc = 0.0\n",
        "save_path = \"best_vit.pth\"\n",
        "for epoch in range(cfg.epochs):\n",
        "    t0 = time.time()\n",
        "    train_loss, train_acc = train_one_epoch(model, train_loader, optimizer, cfg.device)\n",
        "    test_acc = evaluate(model, test_loader, cfg.device)\n",
        "    scheduler.step()\n",
        "    epoch_time = time.time() - t0\n",
        "    print(f\"Epoch {epoch+1}/{cfg.epochs}  train_acc={train_acc:.4f}  test_acc={test_acc:.4f}  time={epoch_time:.1f}s\")\n",
        "    if test_acc > best_acc:\n",
        "        best_acc = test_acc\n",
        "        torch.save(model.state_dict(), save_path)\n",
        "        print(\"Saved new best:\", best_acc)\n",
        "print(\"Best test acc:\", best_acc)\n"
      ],
      "metadata": {
        "colab": {
          "base_uri": "https://localhost:8080/"
        },
        "id": "JSZ08Zkb_KpX",
        "outputId": "bbdc673c-503d-411c-a6c9-62dc545b2bda"
      },
      "execution_count": 9,
      "outputs": [
        {
          "output_type": "stream",
          "name": "stderr",
          "text": [
            "loss: 1.8261 acc: 32.81%: 100%|██████████| 196/196 [00:54<00:00,  3.62it/s]\n"
          ]
        },
        {
          "output_type": "stream",
          "name": "stdout",
          "text": [
            "Epoch 1/30  train_acc=0.3281  test_acc=0.4128  time=57.8s\n",
            "Saved new best: 0.4128\n"
          ]
        },
        {
          "output_type": "stream",
          "name": "stderr",
          "text": [
            "loss: 1.4582 acc: 46.58%: 100%|██████████| 196/196 [00:55<00:00,  3.50it/s]\n"
          ]
        },
        {
          "output_type": "stream",
          "name": "stdout",
          "text": [
            "Epoch 2/30  train_acc=0.4658  test_acc=0.4828  time=59.9s\n",
            "Saved new best: 0.4828\n"
          ]
        },
        {
          "output_type": "stream",
          "name": "stderr",
          "text": [
            "loss: 1.3108 acc: 52.46%: 100%|██████████| 196/196 [00:55<00:00,  3.54it/s]\n"
          ]
        },
        {
          "output_type": "stream",
          "name": "stdout",
          "text": [
            "Epoch 3/30  train_acc=0.5246  test_acc=0.5386  time=59.1s\n",
            "Saved new best: 0.5386\n"
          ]
        },
        {
          "output_type": "stream",
          "name": "stderr",
          "text": [
            "loss: 1.2091 acc: 56.31%: 100%|██████████| 196/196 [00:55<00:00,  3.51it/s]\n"
          ]
        },
        {
          "output_type": "stream",
          "name": "stdout",
          "text": [
            "Epoch 4/30  train_acc=0.5631  test_acc=0.5831  time=59.7s\n",
            "Saved new best: 0.5831\n"
          ]
        },
        {
          "output_type": "stream",
          "name": "stderr",
          "text": [
            "loss: 1.1426 acc: 58.55%: 100%|██████████| 196/196 [00:55<00:00,  3.51it/s]\n"
          ]
        },
        {
          "output_type": "stream",
          "name": "stdout",
          "text": [
            "Epoch 5/30  train_acc=0.5855  test_acc=0.6112  time=59.9s\n",
            "Saved new best: 0.6112\n"
          ]
        },
        {
          "output_type": "stream",
          "name": "stderr",
          "text": [
            "loss: 1.0810 acc: 60.94%: 100%|██████████| 196/196 [00:55<00:00,  3.50it/s]\n"
          ]
        },
        {
          "output_type": "stream",
          "name": "stdout",
          "text": [
            "Epoch 6/30  train_acc=0.6094  test_acc=0.6190  time=59.7s\n",
            "Saved new best: 0.619\n"
          ]
        },
        {
          "output_type": "stream",
          "name": "stderr",
          "text": [
            "loss: 1.0356 acc: 62.65%: 100%|██████████| 196/196 [00:56<00:00,  3.48it/s]\n"
          ]
        },
        {
          "output_type": "stream",
          "name": "stdout",
          "text": [
            "Epoch 7/30  train_acc=0.6265  test_acc=0.6391  time=60.2s\n",
            "Saved new best: 0.6391\n"
          ]
        },
        {
          "output_type": "stream",
          "name": "stderr",
          "text": [
            "loss: 0.9886 acc: 64.51%: 100%|██████████| 196/196 [00:56<00:00,  3.50it/s]\n"
          ]
        },
        {
          "output_type": "stream",
          "name": "stdout",
          "text": [
            "Epoch 8/30  train_acc=0.6451  test_acc=0.6588  time=60.0s\n",
            "Saved new best: 0.6588\n"
          ]
        },
        {
          "output_type": "stream",
          "name": "stderr",
          "text": [
            "loss: 0.9471 acc: 65.79%: 100%|██████████| 196/196 [00:56<00:00,  3.50it/s]\n"
          ]
        },
        {
          "output_type": "stream",
          "name": "stdout",
          "text": [
            "Epoch 9/30  train_acc=0.6579  test_acc=0.6644  time=60.1s\n",
            "Saved new best: 0.6644\n"
          ]
        },
        {
          "output_type": "stream",
          "name": "stderr",
          "text": [
            "loss: 0.9016 acc: 67.72%: 100%|██████████| 196/196 [00:55<00:00,  3.51it/s]\n"
          ]
        },
        {
          "output_type": "stream",
          "name": "stdout",
          "text": [
            "Epoch 10/30  train_acc=0.6772  test_acc=0.6855  time=59.7s\n",
            "Saved new best: 0.6855\n"
          ]
        },
        {
          "output_type": "stream",
          "name": "stderr",
          "text": [
            "loss: 0.8668 acc: 68.97%: 100%|██████████| 196/196 [00:55<00:00,  3.50it/s]\n"
          ]
        },
        {
          "output_type": "stream",
          "name": "stdout",
          "text": [
            "Epoch 11/30  train_acc=0.6897  test_acc=0.6807  time=59.8s\n"
          ]
        },
        {
          "output_type": "stream",
          "name": "stderr",
          "text": [
            "loss: 0.8334 acc: 70.07%: 100%|██████████| 196/196 [00:55<00:00,  3.51it/s]\n"
          ]
        },
        {
          "output_type": "stream",
          "name": "stdout",
          "text": [
            "Epoch 12/30  train_acc=0.7007  test_acc=0.6905  time=60.0s\n",
            "Saved new best: 0.6905\n"
          ]
        },
        {
          "output_type": "stream",
          "name": "stderr",
          "text": [
            "loss: 0.7914 acc: 71.94%: 100%|██████████| 196/196 [00:55<00:00,  3.51it/s]\n"
          ]
        },
        {
          "output_type": "stream",
          "name": "stdout",
          "text": [
            "Epoch 13/30  train_acc=0.7194  test_acc=0.6969  time=59.7s\n",
            "Saved new best: 0.6969\n"
          ]
        },
        {
          "output_type": "stream",
          "name": "stderr",
          "text": [
            "loss: 0.7593 acc: 72.92%: 100%|██████████| 196/196 [00:56<00:00,  3.49it/s]\n"
          ]
        },
        {
          "output_type": "stream",
          "name": "stdout",
          "text": [
            "Epoch 14/30  train_acc=0.7292  test_acc=0.7181  time=60.0s\n",
            "Saved new best: 0.7181\n"
          ]
        },
        {
          "output_type": "stream",
          "name": "stderr",
          "text": [
            "loss: 0.7278 acc: 73.98%: 100%|██████████| 196/196 [00:55<00:00,  3.50it/s]\n"
          ]
        },
        {
          "output_type": "stream",
          "name": "stdout",
          "text": [
            "Epoch 15/30  train_acc=0.7398  test_acc=0.7234  time=59.8s\n",
            "Saved new best: 0.7234\n"
          ]
        },
        {
          "output_type": "stream",
          "name": "stderr",
          "text": [
            "loss: 0.6932 acc: 75.20%: 100%|██████████| 196/196 [00:56<00:00,  3.50it/s]\n"
          ]
        },
        {
          "output_type": "stream",
          "name": "stdout",
          "text": [
            "Epoch 16/30  train_acc=0.7520  test_acc=0.7313  time=60.1s\n",
            "Saved new best: 0.7313\n"
          ]
        },
        {
          "output_type": "stream",
          "name": "stderr",
          "text": [
            "loss: 0.6578 acc: 76.29%: 100%|██████████| 196/196 [00:55<00:00,  3.51it/s]\n"
          ]
        },
        {
          "output_type": "stream",
          "name": "stdout",
          "text": [
            "Epoch 17/30  train_acc=0.7629  test_acc=0.7255  time=59.6s\n"
          ]
        },
        {
          "output_type": "stream",
          "name": "stderr",
          "text": [
            "loss: 0.6333 acc: 77.35%: 100%|██████████| 196/196 [00:56<00:00,  3.50it/s]\n"
          ]
        },
        {
          "output_type": "stream",
          "name": "stdout",
          "text": [
            "Epoch 18/30  train_acc=0.7735  test_acc=0.7393  time=59.9s\n",
            "Saved new best: 0.7393\n"
          ]
        },
        {
          "output_type": "stream",
          "name": "stderr",
          "text": [
            "loss: 0.5968 acc: 78.80%: 100%|██████████| 196/196 [00:55<00:00,  3.50it/s]\n"
          ]
        },
        {
          "output_type": "stream",
          "name": "stdout",
          "text": [
            "Epoch 19/30  train_acc=0.7880  test_acc=0.7404  time=59.8s\n",
            "Saved new best: 0.7404\n"
          ]
        },
        {
          "output_type": "stream",
          "name": "stderr",
          "text": [
            "loss: 0.5653 acc: 79.78%: 100%|██████████| 196/196 [00:55<00:00,  3.52it/s]\n"
          ]
        },
        {
          "output_type": "stream",
          "name": "stdout",
          "text": [
            "Epoch 20/30  train_acc=0.7978  test_acc=0.7444  time=59.8s\n",
            "Saved new best: 0.7444\n"
          ]
        },
        {
          "output_type": "stream",
          "name": "stderr",
          "text": [
            "loss: 0.5336 acc: 80.96%: 100%|██████████| 196/196 [00:55<00:00,  3.50it/s]\n"
          ]
        },
        {
          "output_type": "stream",
          "name": "stdout",
          "text": [
            "Epoch 21/30  train_acc=0.8096  test_acc=0.7517  time=59.8s\n",
            "Saved new best: 0.7517\n"
          ]
        },
        {
          "output_type": "stream",
          "name": "stderr",
          "text": [
            "loss: 0.5128 acc: 81.70%: 100%|██████████| 196/196 [00:56<00:00,  3.48it/s]\n"
          ]
        },
        {
          "output_type": "stream",
          "name": "stdout",
          "text": [
            "Epoch 22/30  train_acc=0.8170  test_acc=0.7558  time=60.2s\n",
            "Saved new best: 0.7558\n"
          ]
        },
        {
          "output_type": "stream",
          "name": "stderr",
          "text": [
            "loss: 0.4852 acc: 82.55%: 100%|██████████| 196/196 [00:55<00:00,  3.51it/s]\n"
          ]
        },
        {
          "output_type": "stream",
          "name": "stdout",
          "text": [
            "Epoch 23/30  train_acc=0.8255  test_acc=0.7472  time=59.7s\n"
          ]
        },
        {
          "output_type": "stream",
          "name": "stderr",
          "text": [
            "loss: 0.4601 acc: 83.43%: 100%|██████████| 196/196 [00:55<00:00,  3.50it/s]\n"
          ]
        },
        {
          "output_type": "stream",
          "name": "stdout",
          "text": [
            "Epoch 24/30  train_acc=0.8343  test_acc=0.7566  time=60.0s\n",
            "Saved new best: 0.7566\n"
          ]
        },
        {
          "output_type": "stream",
          "name": "stderr",
          "text": [
            "loss: 0.4408 acc: 84.28%: 100%|██████████| 196/196 [00:55<00:00,  3.51it/s]\n"
          ]
        },
        {
          "output_type": "stream",
          "name": "stdout",
          "text": [
            "Epoch 25/30  train_acc=0.8428  test_acc=0.7588  time=59.7s\n",
            "Saved new best: 0.7588\n"
          ]
        },
        {
          "output_type": "stream",
          "name": "stderr",
          "text": [
            "loss: 0.4261 acc: 84.90%: 100%|██████████| 196/196 [00:56<00:00,  3.50it/s]\n"
          ]
        },
        {
          "output_type": "stream",
          "name": "stdout",
          "text": [
            "Epoch 26/30  train_acc=0.8490  test_acc=0.7575  time=59.9s\n"
          ]
        },
        {
          "output_type": "stream",
          "name": "stderr",
          "text": [
            "loss: 0.4131 acc: 85.25%: 100%|██████████| 196/196 [00:56<00:00,  3.50it/s]\n"
          ]
        },
        {
          "output_type": "stream",
          "name": "stdout",
          "text": [
            "Epoch 27/30  train_acc=0.8525  test_acc=0.7614  time=60.1s\n",
            "Saved new best: 0.7614\n"
          ]
        },
        {
          "output_type": "stream",
          "name": "stderr",
          "text": [
            "loss: 0.3968 acc: 85.99%: 100%|██████████| 196/196 [00:55<00:00,  3.50it/s]\n"
          ]
        },
        {
          "output_type": "stream",
          "name": "stdout",
          "text": [
            "Epoch 28/30  train_acc=0.8599  test_acc=0.7609  time=59.9s\n"
          ]
        },
        {
          "output_type": "stream",
          "name": "stderr",
          "text": [
            "loss: 0.3920 acc: 86.00%: 100%|██████████| 196/196 [00:56<00:00,  3.50it/s]\n"
          ]
        },
        {
          "output_type": "stream",
          "name": "stdout",
          "text": [
            "Epoch 29/30  train_acc=0.8600  test_acc=0.7604  time=59.9s\n"
          ]
        },
        {
          "output_type": "stream",
          "name": "stderr",
          "text": [
            "loss: 0.3891 acc: 86.21%: 100%|██████████| 196/196 [00:56<00:00,  3.50it/s]\n"
          ]
        },
        {
          "output_type": "stream",
          "name": "stdout",
          "text": [
            "Epoch 30/30  train_acc=0.8621  test_acc=0.7613  time=59.9s\n",
            "Best test acc: 0.7614\n"
          ]
        }
      ]
    },
    {
      "cell_type": "code",
      "source": [
        "# 9. Quick evaluation printing classwise accuracy (optional)\n",
        "from collections import defaultdict\n",
        "model.load_state_dict(torch.load(save_path))\n",
        "model.eval()\n",
        "class_correct = [0]*10\n",
        "class_total = [0]*10\n",
        "with torch.no_grad():\n",
        "    for imgs, labels in test_loader:\n",
        "        imgs = imgs.to(cfg.device); labels = labels.to(cfg.device)\n",
        "        logits = model(imgs)\n",
        "        preds = logits.argmax(1)\n",
        "        for p,l in zip(preds.cpu().numpy(), labels.cpu().numpy()):\n",
        "            class_total[l]+=1\n",
        "            if p==l: class_correct[l]+=1\n",
        "for i in range(10):\n",
        "    print(f\"class {i}: {100.*class_correct[i]/class_total[i]:.2f}%\")\n"
      ],
      "metadata": {
        "id": "mt7SojtR_McL",
        "colab": {
          "base_uri": "https://localhost:8080/"
        },
        "outputId": "8f56377e-a943-48d8-98c9-e28d25f1a3f8"
      },
      "execution_count": 10,
      "outputs": [
        {
          "output_type": "stream",
          "name": "stdout",
          "text": [
            "class 0: 77.90%\n",
            "class 1: 85.40%\n",
            "class 2: 66.70%\n",
            "class 3: 58.90%\n",
            "class 4: 71.90%\n",
            "class 5: 71.70%\n",
            "class 6: 85.30%\n",
            "class 7: 78.70%\n",
            "class 8: 85.30%\n",
            "class 9: 79.60%\n"
          ]
        }
      ]
    },
    {
      "cell_type": "code",
      "source": [
        "import numpy as np\n",
        "import matplotlib.pyplot as plt\n",
        "import seaborn as sns\n",
        "from sklearn.metrics import confusion_matrix, classification_report\n",
        "\n",
        "# --- Collect all predictions and true labels ---\n",
        "all_preds, all_labels = [], []\n",
        "\n",
        "model.eval()\n",
        "with torch.no_grad():\n",
        "    for imgs, labels in test_loader:\n",
        "        imgs = imgs.to(cfg.device)\n",
        "        labels = labels.to(cfg.device)\n",
        "        logits = model(imgs)\n",
        "        preds = logits.argmax(1)\n",
        "        all_preds.extend(preds.cpu().numpy())\n",
        "        all_labels.extend(labels.cpu().numpy())\n",
        "\n",
        "# --- Confusion Matrix ---\n",
        "cm = confusion_matrix(all_labels, all_preds)\n",
        "\n",
        "# Try to get class names (if dataset has them)\n",
        "try:\n",
        "    class_names = test_loader.dataset.classes\n",
        "except AttributeError:\n",
        "    class_names = [str(i) for i in range(10)]\n",
        "\n",
        "plt.figure(figsize=(8, 6))\n",
        "sns.heatmap(cm, annot=True, fmt=\"d\", cmap=\"Blues\",\n",
        "            xticklabels=class_names, yticklabels=class_names)\n",
        "plt.xlabel(\"Predicted Label\")\n",
        "plt.ylabel(\"True Label\")\n",
        "plt.title(\"Confusion Matrix for ViT on CIFAR-10\")\n",
        "plt.show()\n",
        "\n",
        "# --- Classification Report ---\n",
        "print(\"\\nClassification Report:\\n\")\n",
        "print(classification_report(all_labels, all_preds, target_names=class_names))\n"
      ],
      "metadata": {
        "id": "cCQA0mc7_OsT",
        "colab": {
          "base_uri": "https://localhost:8080/",
          "height": 1000
        },
        "outputId": "cf0eb217-bcd6-44e5-ae93-917ffa4622d5"
      },
      "execution_count": 12,
      "outputs": [
        {
          "output_type": "stream",
          "name": "stderr",
          "text": [
            "/usr/local/lib/python3.12/dist-packages/torch/utils/data/dataloader.py:627: UserWarning: This DataLoader will create 4 worker processes in total. Our suggested max number of worker in current system is 2, which is smaller than what this DataLoader is going to create. Please be aware that excessive worker creation might get DataLoader running slow or even freeze, lower the worker number to avoid potential slowness/freeze if necessary.\n",
            "  warnings.warn(\n"
          ]
        },
        {
          "output_type": "display_data",
          "data": {
            "text/plain": [
              "<Figure size 800x600 with 2 Axes>"
            ],
            "image/png": "[encoded data removed]"
          },
          "metadata": {}
        },
        {
          "output_type": "stream",
          "name": "stdout",
          "text": [
            "\n",
            "Classification Report:\n",
            "\n",
            "              precision    recall  f1-score   support\n",
            "\n",
            "    airplane       0.75      0.78      0.76      1000\n",
            "  automobile       0.83      0.85      0.84      1000\n",
            "        bird       0.70      0.67      0.68      1000\n",
            "         cat       0.64      0.59      0.61      1000\n",
            "        deer       0.73      0.72      0.72      1000\n",
            "         dog       0.66      0.72      0.68      1000\n",
            "        frog       0.81      0.85      0.83      1000\n",
            "       horse       0.80      0.79      0.79      1000\n",
            "        ship       0.85      0.85      0.85      1000\n",
            "       truck       0.84      0.80      0.82      1000\n",
            "\n",
            "    accuracy                           0.76     10000\n",
            "   macro avg       0.76      0.76      0.76     10000\n",
            "weighted avg       0.76      0.76      0.76     10000\n",
            "\n"
          ]
        }
      ]
    },
    {
      "cell_type": "code",
      "source": [],
      "metadata": {
        "id": "kTAOUPzDNZh1"
      },
      "execution_count": null,
      "outputs": []
    }
  ]
}
